{
  "nbformat": 4,
  "nbformat_minor": 0,
  "metadata": {
    "kernelspec": {
      "display_name": "TensorFlow 2.3 on Python 3.6 (CUDA 10.1)",
      "language": "python",
      "name": "python3"
    },
    "language_info": {
      "codemirror_mode": {
        "name": "ipython",
        "version": 3
      },
      "file_extension": ".py",
      "mimetype": "text/x-python",
      "name": "python",
      "nbconvert_exporter": "python",
      "pygments_lexer": "ipython3",
      "version": "3.6.9"
    },
    "colab": {
      "name": "DCGAN 생성자*3, 판별자 *3, wasserstein",
      "provenance": [],
      "include_colab_link": true
    },
    "accelerator": "GPU"
  },
  "cells": [
    {
      "cell_type": "markdown",
      "metadata": {
        "id": "view-in-github",
        "colab_type": "text"
      },
      "source": [
        "<a href=\"https://colab.research.google.com/github/hj56775/Study_GAN/blob/main/DCGAN/DCGAN_%EC%83%9D%EC%84%B1%EC%9E%90_3%2C_%ED%8C%90%EB%B3%84%EC%9E%90_3%2C_wasserstein.ipynb\" target=\"_parent\"><img src=\"https://colab.research.google.com/assets/colab-badge.svg\" alt=\"Open In Colab\"/></a>"
      ]
    },
    {
      "cell_type": "markdown",
      "metadata": {
        "id": "HDTyFH1XU_E5"
      },
      "source": [
        "# 4장: 심층 합성곱 GAN (DCGAN)"
      ]
    },
    {
      "cell_type": "markdown",
      "metadata": {
        "id": "bMSJeYenU_FH"
      },
      "source": [
        "<table align=\"left\">\n",
        "  <td>\n",
        "    <a target=\"_blank\" href=\"https://colab.research.google.com/github/rickiepark/gans-in-action/blob/master/chapter-4/Chapter_4_DCGAN.ipynb\"><img src=\"https://www.tensorflow.org/images/colab_logo_32px.png\" />구글 코랩에서 실행하기</a>\n",
        "  </td>\n",
        "</table>"
      ]
    },
    {
      "cell_type": "code",
      "metadata": {
        "id": "tkQyJTviU_FJ"
      },
      "source": [
        "%matplotlib inline\n",
        "\n",
        "import matplotlib.pyplot as plt\n",
        "import numpy as np\n",
        "\n",
        "from tensorflow.keras.datasets import mnist\n",
        "from tensorflow.keras.layers import Activation, BatchNormalization, Dense, Dropout, Flatten, Reshape\n",
        "from tensorflow.keras.layers import LeakyReLU\n",
        "from tensorflow.keras.layers import Conv2D, Conv2DTranspose\n",
        "from tensorflow.keras.models import Sequential\n",
        "from tensorflow.keras.optimizers import Adam\n",
        "from keras import backend as K"
      ],
      "execution_count": 1,
      "outputs": []
    },
    {
      "cell_type": "code",
      "metadata": {
        "id": "gkLeH_6bU_FK"
      },
      "source": [
        "img_rows = 28\n",
        "img_cols = 28\n",
        "channels = 1\n",
        "\n",
        "# 입력 이미지 차원\n",
        "img_shape = (img_rows, img_cols, channels)\n",
        "\n",
        "# 생성자 입력으로 사용될 잡음 벡터의 크기\n",
        "z_dim = 100"
      ],
      "execution_count": 2,
      "outputs": []
    },
    {
      "cell_type": "markdown",
      "metadata": {
        "id": "EeqzXkY5U_FL"
      },
      "source": [
        "## 생성자"
      ]
    },
    {
      "cell_type": "code",
      "metadata": {
        "id": "FlD9tGuCU_FM"
      },
      "source": [
        "def build_generator(z_dim):\n",
        "\n",
        "    model = Sequential()\n",
        "\n",
        "    # 완전 연결층을 통해 입력을 7x7x256 크기 텐서로 변환\n",
        "    model.add(Dense(256 * 7 * 7, input_dim=z_dim))\n",
        "    model.add(Reshape((7, 7, 256)))\n",
        "\n",
        "    # 7x7x256에서 14x14x128 텐서로 바꾸는 전치 합성곱 층\n",
        "    model.add(Conv2DTranspose(128, kernel_size=3, strides=2, padding='same'))\n",
        "\n",
        "    # 배치 정규화\n",
        "    model.add(BatchNormalization())\n",
        "\n",
        "    # LeakyReLU 활성화 함수\n",
        "    model.add(LeakyReLU(alpha=0.01))\n",
        "\n",
        "    '''14x14x128 첫번째'''\n",
        "    model.add(Conv2DTranspose(128, kernel_size=3, strides=1, padding='same'))\n",
        "\n",
        "    # 배치 정규화\n",
        "    model.add(BatchNormalization())\n",
        "\n",
        "    # LeakyReLU 활성화 함수\n",
        "    model.add(LeakyReLU(alpha=0.01))  \n",
        "\n",
        "    '''14x14x128 두번째'''\n",
        "    model.add(Conv2DTranspose(128, kernel_size=3, strides=1, padding='same'))\n",
        "\n",
        "    # 배치 정규화\n",
        "    model.add(BatchNormalization())\n",
        "\n",
        "    # LeakyReLU 활성화 함수\n",
        "    model.add(LeakyReLU(alpha=0.01))  \n",
        "\n",
        "    # 14x14x128에서 14x14x64 텐서로 바꾸는 전치 합성곱 층\n",
        "    model.add(Conv2DTranspose(64, kernel_size=3, strides=1, padding='same'))\n",
        "\n",
        "    # 배치 정규화\n",
        "    model.add(BatchNormalization())\n",
        "\n",
        "    # LeakyReLU 활성화 함수\n",
        "    model.add(LeakyReLU(alpha=0.01))\n",
        "\n",
        "    '''14x14x64 첫 번째'''\n",
        "    model.add(Conv2DTranspose(64, kernel_size=3, strides=1, padding='same'))\n",
        "\n",
        "    # 배치 정규화\n",
        "    model.add(BatchNormalization())\n",
        "\n",
        "    # LeakyReLU 활성화 함수\n",
        "    model.add(LeakyReLU(alpha=0.01))\n",
        "\n",
        "    '''14x14x64 첫 번째'''\n",
        "    model.add(Conv2DTranspose(64, kernel_size=3, strides=1, padding='same'))\n",
        "\n",
        "    # 배치 정규화\n",
        "    model.add(BatchNormalization())\n",
        "\n",
        "    # LeakyReLU 활성화 함수\n",
        "    model.add(LeakyReLU(alpha=0.01))\n",
        "    \n",
        "    # 14x14x64에서 28x28x1 텐서로 바꾸는 전치 합성곱 층\n",
        "    model.add(Conv2DTranspose(1, kernel_size=3, strides=2, padding='same'))\n",
        "\n",
        "    # tanh 활성화 함수를 사용한 출력층\n",
        "    model.add(Activation('tanh'))\n",
        "\n",
        "    return model"
      ],
      "execution_count": 3,
      "outputs": []
    },
    {
      "cell_type": "markdown",
      "metadata": {
        "id": "SpqeOq7rU_FO"
      },
      "source": [
        "## 판별자"
      ]
    },
    {
      "cell_type": "code",
      "metadata": {
        "id": "QcxdgwGMU_FO"
      },
      "source": [
        "def build_discriminator(img_shape):\n",
        "\n",
        "    model = Sequential()\n",
        "\n",
        "    # 28x28x1에서 14x14x32 텐서로 바꾸는 합성곱 층\n",
        "    model.add(\n",
        "        Conv2D(32,\n",
        "               kernel_size=3,\n",
        "               strides=2,\n",
        "               input_shape=img_shape,\n",
        "               padding='same'))\n",
        "\n",
        "    # LeakyReLU 활성화 함수\n",
        "    model.add(LeakyReLU(alpha=0.01))\n",
        "\n",
        "    '''14,14,32 두번'''\n",
        "    model.add(\n",
        "        Conv2D(32,\n",
        "               kernel_size=3,\n",
        "               strides=1,\n",
        "               input_shape=img_shape,\n",
        "               padding='same'))\n",
        "\n",
        "    # LeakyReLU 활성화 함수\n",
        "    model.add(LeakyReLU(alpha=0.01))\n",
        "\n",
        "    '''14,14,32 세번'''\n",
        "    model.add(\n",
        "        Conv2D(32,\n",
        "               kernel_size=3,\n",
        "               strides=1,\n",
        "               input_shape=img_shape,\n",
        "               padding='same'))\n",
        "\n",
        "    # LeakyReLU 활성화 함수\n",
        "    model.add(LeakyReLU(alpha=0.01))\n",
        "\n",
        "    # 14x14x32에서 7x7x64 텐서로 바꾸는 합성곱 층\n",
        "    model.add(\n",
        "        Conv2D(64,\n",
        "               kernel_size=3,\n",
        "               strides=2,\n",
        "               padding='same'))\n",
        "\n",
        "    # LeakyReLU 활성화 함수\n",
        "    model.add(LeakyReLU(alpha=0.01))\n",
        "\n",
        "    '''7,7,64 두번'''\n",
        "    model.add(\n",
        "        Conv2D(64,\n",
        "               kernel_size=3,\n",
        "               strides=1,\n",
        "               padding='same'))\n",
        "\n",
        "    # LeakyReLU 활성화 함수\n",
        "    model.add(LeakyReLU(alpha=0.01))\n",
        "\n",
        "    '''7,7,64 세번'''\n",
        "    model.add(\n",
        "        Conv2D(64,\n",
        "               kernel_size=3,\n",
        "               strides=1,\n",
        "               padding='same'))\n",
        "\n",
        "    # LeakyReLU 활성화 함수\n",
        "    model.add(LeakyReLU(alpha=0.01))\n",
        "    # 7x7x64에서 3x3x128 텐서로 바꾸는 합성곱 층\n",
        "    model.add(\n",
        "        Conv2D(128,\n",
        "               kernel_size=3,\n",
        "               strides=2,\n",
        "               padding='same'))\n",
        "\n",
        "    # LeakyReLU 활성화 함수\n",
        "    model.add(LeakyReLU(alpha=0.01))\n",
        "    \n",
        "    '''# 7x7x64 두번'''\n",
        "    model.add(\n",
        "        Conv2D(128,\n",
        "               kernel_size=3,\n",
        "               strides=1,\n",
        "               padding='same'))\n",
        "\n",
        "    # LeakyReLU 활성화 함수\n",
        "    model.add(LeakyReLU(alpha=0.01))\n",
        "\n",
        "    '''# 7x7x64 세번'''\n",
        "    model.add(\n",
        "        Conv2D(128,\n",
        "               kernel_size=3,\n",
        "               strides=1,\n",
        "               padding='same'))\n",
        "\n",
        "    # LeakyReLU 활성화 함수\n",
        "    model.add(LeakyReLU(alpha=0.01))\n",
        "    # sigmoid 활성화 함수를 사용한 출력층\n",
        "    model.add(Flatten())\n",
        "    model.add(Dense(1, activation='sigmoid'))\n",
        "\n",
        "    return model"
      ],
      "execution_count": 4,
      "outputs": []
    },
    {
      "cell_type": "markdown",
      "metadata": {
        "id": "SIu7DBHJU_FQ"
      },
      "source": [
        "## 모델 만들기"
      ]
    },
    {
      "cell_type": "code",
      "metadata": {
        "id": "81l1lDfeU_FT"
      },
      "source": [
        "def build_gan(generator, discriminator):\n",
        "\n",
        "    model = Sequential()\n",
        "\n",
        "    # 생성자 -> 판별자로 연결된 모델\n",
        "    model.add(generator)\n",
        "    model.add(discriminator)\n",
        "\n",
        "    return model"
      ],
      "execution_count": 5,
      "outputs": []
    },
    {
      "cell_type": "code",
      "metadata": {
        "id": "nSDPUBiZXBWm"
      },
      "source": [
        "def wasserstein(y_true, y_pred):\r\n",
        "  return -K.mean(y_true*y_pred)"
      ],
      "execution_count": 6,
      "outputs": []
    },
    {
      "cell_type": "code",
      "metadata": {
        "id": "t4JcnPYuU_FU"
      },
      "source": [
        "# 판별자 모델을 만들고 컴파일하기\n",
        "discriminator = build_discriminator(img_shape)\n",
        "discriminator.compile(loss=wasserstein,\n",
        "                      optimizer=Adam(),\n",
        "                      metrics=['accuracy'])\n",
        "\n",
        "# 생성자 모델 만들기\n",
        "generator = build_generator(z_dim)\n",
        "\n",
        "# 생성자를 훈련하는 동안 판별자의 파라미터를 유지\n",
        "discriminator.trainable = False\n",
        "\n",
        "# 생성자를 훈련하기 위해 동결된 판별자로 GAN 모델을 만들고 컴파일\n",
        "gan = build_gan(generator, discriminator)\n",
        "gan.compile(loss=wasserstein, optimizer=Adam())"
      ],
      "execution_count": 7,
      "outputs": []
    },
    {
      "cell_type": "markdown",
      "metadata": {
        "id": "l7pIGyJ3U_FV"
      },
      "source": [
        "## 훈련"
      ]
    },
    {
      "cell_type": "code",
      "metadata": {
        "id": "P1nMsUimaQNQ"
      },
      "source": [
        "def train_discriminator(X_train,batch_size,clip_threshold):\r\n",
        "  # 진짜 이미지 레이블: 모두 1\r\n",
        "  real = np.ones((batch_size, 1))\r\n",
        "\r\n",
        "  # 가짜 이미지 레이블: 모두 0\r\n",
        "  fake = -np.ones((batch_size, 1))\r\n",
        "\r\n",
        "  #진짜 이미지로 훈련\r\n",
        "  idx = np.random.randint(0, X_train.shape[0], batch_size)\r\n",
        "  imgs = X_train[idx]\r\n",
        "  d_loss_real = discriminator.train_on_batch(imgs, real)\r\n",
        "\r\n",
        "  z = np.random.normal(0, 1, (batch_size, 100))\r\n",
        "  gen_imgs = generator.predict(z)\r\n",
        "  d_loss_fake = discriminator.train_on_batch(gen_imgs, fake)\r\n",
        "\r\n",
        "  d_loss, accuracy = 0.5 * np.add(d_loss_real, d_loss_fake)\r\n",
        "\r\n",
        "  for l in  discriminator.layers:\r\n",
        "    weights=l.get_weights()\r\n",
        "    weights=[np.clip(w,-clip_threshold,clip_threshold) for w in weights]\r\n",
        "    l.set_weights(weights)\r\n",
        "  \r\n",
        "  return d_loss,accuracy"
      ],
      "execution_count": 14,
      "outputs": []
    },
    {
      "cell_type": "code",
      "metadata": {
        "id": "NInsAvjecT45"
      },
      "source": [
        "def train_generator(batch_size):\r\n",
        "  # 진짜 이미지 레이블: 모두 1\r\n",
        "  real = np.ones((batch_size, 1))\r\n",
        "  z = np.random.normal(0, 1, (batch_size, 100))\r\n",
        "  gen_imgs = generator.predict(z)\r\n",
        "\r\n",
        "  # 생성자 훈련\r\n",
        "  g_loss = gan.train_on_batch(z, real)\r\n",
        "\r\n",
        "  return g_loss"
      ],
      "execution_count": 9,
      "outputs": []
    },
    {
      "cell_type": "code",
      "metadata": {
        "id": "iXg39KdKcqZ2"
      },
      "source": [
        "losses = []\r\n",
        "accuracies = []\r\n",
        "iteration_checkpoints = []\r\n",
        "\r\n",
        "def train(iterations,batch_size, sample_interval):\r\n",
        "  \r\n",
        "  # MNIST 데이터셋 로드\r\n",
        "  (X_train, _), (_, _) = mnist.load_data()\r\n",
        "\r\n",
        "  # [0, 255] 흑백 픽셀 값을 [-1, 1] 사이로 스케일 조정\r\n",
        "  X_train = X_train / 127.5 - 1.0\r\n",
        "  X_train = np.expand_dims(X_train, axis=3)\r\n",
        "\r\n",
        "  for iteration in range(iterations):\r\n",
        "    for _ in range(5):\r\n",
        "      d_loss,accuracy=train_discriminator(X_train,batch_size,clip_threshold=0.01)\r\n",
        "    g_loss=train_generator(batch_size)\r\n",
        "    if (iteration + 1) % sample_interval == 0:\r\n",
        "      # 훈련이 끝난 후 그래프를 그리기 위해 손실과 정확도 저장\r\n",
        "      losses.append((d_loss, g_loss))\r\n",
        "      accuracies.append(100.0 * accuracy)\r\n",
        "      iteration_checkpoints.append(iteration + 1)\r\n",
        "\r\n",
        "      # 훈련 과정 출력\r\n",
        "      print(\"%d [D 손실: %f, 정확도: %.2f%%] [G 손실: %f]\" %\r\n",
        "            (iteration + 1, d_loss, 100.0 * accuracy, g_loss))\r\n",
        "\r\n",
        "      # 생성된 이미지 샘플 출력\r\n",
        "      sample_images(generator)"
      ],
      "execution_count": 10,
      "outputs": []
    },
    {
      "cell_type": "code",
      "metadata": {
        "id": "bbaI_BZyU_FW",
        "colab": {
          "base_uri": "https://localhost:8080/",
          "height": 108
        },
        "outputId": "854e2842-ca5f-41e3-aa01-51be19defb5d"
      },
      "source": [
        "'''losses = []\n",
        "accuracies = []\n",
        "iteration_checkpoints = []\n",
        "\n",
        "\n",
        "def train(iterations, batch_size, sample_interval):\n",
        "\n",
        "    # MNIST 데이터셋 로드\n",
        "    (X_train, _), (_, _) = mnist.load_data()\n",
        "\n",
        "    # [0, 255] 흑백 픽셀 값을 [-1, 1] 사이로 스케일 조정\n",
        "    X_train = X_train / 127.5 - 1.0\n",
        "    X_train = np.expand_dims(X_train, axis=3)\n",
        "\n",
        "    # 진짜 이미지 레이블: 모두 1\n",
        "    real = np.ones((batch_size, 1))\n",
        "\n",
        "    # 가짜 이미지 레이블: 모두 0\n",
        "    fake = np.zeros((batch_size, 1))\n",
        "\n",
        "    for iteration in range(iterations):\n",
        "\n",
        "        # -------------------------\n",
        "        #  판별자 훈련\n",
        "        # -------------------------\n",
        "\n",
        "        # 진짜 이미지에서 랜덤 배치 가져오기\n",
        "        idx = np.random.randint(0, X_train.shape[0], batch_size)\n",
        "        imgs = X_train[idx]\n",
        "\n",
        "        # 가짜 이미지 배치 생성\n",
        "        z = np.random.normal(0, 1, (batch_size, 100))\n",
        "        gen_imgs = generator.predict(z)\n",
        "\n",
        "        # 판별자 훈련\n",
        "        d_loss_real = discriminator.train_on_batch(imgs, real)\n",
        "        d_loss_fake = discriminator.train_on_batch(gen_imgs, fake)\n",
        "        d_loss, accuracy = 0.5 * np.add(d_loss_real, d_loss_fake)\n",
        "\n",
        "        # ---------------------\n",
        "        #  생성자 훈련\n",
        "        # ---------------------\n",
        "\n",
        "        # 가짜 이미지 배치 생성\n",
        "        z = np.random.normal(0, 1, (batch_size, 100))\n",
        "        gen_imgs = generator.predict(z)\n",
        "\n",
        "        # 생성자 훈련\n",
        "        g_loss = gan.train_on_batch(z, real)\n",
        "\n",
        "        if (iteration + 1) % sample_interval == 0:\n",
        "\n",
        "            # 훈련이 끝난 후 그래프를 그리기 위해 손실과 정확도 저장\n",
        "            losses.append((d_loss, g_loss))\n",
        "            accuracies.append(100.0 * accuracy)\n",
        "            iteration_checkpoints.append(iteration + 1)\n",
        "\n",
        "            # 훈련 과정 출력\n",
        "            print(\"%d [D 손실: %f, 정확도: %.2f%%] [G 손실: %f]\" %\n",
        "                  (iteration + 1, d_loss, 100.0 * accuracy, g_loss))\n",
        "\n",
        "            # 생성된 이미지 샘플 출력\n",
        "            sample_images(generator)'''"
      ],
      "execution_count": 11,
      "outputs": [
        {
          "output_type": "execute_result",
          "data": {
            "application/vnd.google.colaboratory.intrinsic+json": {
              "type": "string"
            },
            "text/plain": [
              "'losses = []\\naccuracies = []\\niteration_checkpoints = []\\n\\n\\ndef train(iterations, batch_size, sample_interval):\\n\\n    # MNIST 데이터셋 로드\\n    (X_train, _), (_, _) = mnist.load_data()\\n\\n    # [0, 255] 흑백 픽셀 값을 [-1, 1] 사이로 스케일 조정\\n    X_train = X_train / 127.5 - 1.0\\n    X_train = np.expand_dims(X_train, axis=3)\\n\\n    # 진짜 이미지 레이블: 모두 1\\n    real = np.ones((batch_size, 1))\\n\\n    # 가짜 이미지 레이블: 모두 0\\n    fake = np.zeros((batch_size, 1))\\n\\n    for iteration in range(iterations):\\n\\n        # -------------------------\\n        #  판별자 훈련\\n        # -------------------------\\n\\n        # 진짜 이미지에서 랜덤 배치 가져오기\\n        idx = np.random.randint(0, X_train.shape[0], batch_size)\\n        imgs = X_train[idx]\\n\\n        # 가짜 이미지 배치 생성\\n        z = np.random.normal(0, 1, (batch_size, 100))\\n        gen_imgs = generator.predict(z)\\n\\n        # 판별자 훈련\\n        d_loss_real = discriminator.train_on_batch(imgs, real)\\n        d_loss_fake = discriminator.train_on_batch(gen_imgs, fake)\\n        d_loss, accuracy = 0.5 * np.add(d_loss_real, d_loss_fake)\\n\\n        # ---------------------\\n        #  생성자 훈련\\n        # ---------------------\\n\\n        # 가짜 이미지 배치 생성\\n        z = np.random.normal(0, 1, (batch_size, 100))\\n        gen_imgs = generator.predict(z)\\n\\n        # 생성자 훈련\\n        g_loss = gan.train_on_batch(z, real)\\n\\n        if (iteration + 1) % sample_interval == 0:\\n\\n            # 훈련이 끝난 후 그래프를 그리기 위해 손실과 정확도 저장\\n            losses.append((d_loss, g_loss))\\n            accuracies.append(100.0 * accuracy)\\n            iteration_checkpoints.append(iteration + 1)\\n\\n            # 훈련 과정 출력\\n            print(\"%d [D 손실: %f, 정확도: %.2f%%] [G 손실: %f]\" %\\n                  (iteration + 1, d_loss, 100.0 * accuracy, g_loss))\\n\\n            # 생성된 이미지 샘플 출력\\n            sample_images(generator)'"
            ]
          },
          "metadata": {
            "tags": []
          },
          "execution_count": 11
        }
      ]
    },
    {
      "cell_type": "code",
      "metadata": {
        "id": "p66MMCBgU_Fc"
      },
      "source": [
        "def sample_images(generator, image_grid_rows=4, image_grid_columns=4):\n",
        "\n",
        "    # 랜덤한 잡음 샘플링\n",
        "    z = np.random.normal(0, 1, (image_grid_rows * image_grid_columns, z_dim))\n",
        "\n",
        "    # 랜덤한 잡음에서 이미지 생성하기\n",
        "    gen_imgs = generator.predict(z)\n",
        "\n",
        "    # 이미지 픽셀 값을 [0, 1] 사이로 스케일 조정\n",
        "    gen_imgs = 0.5 * gen_imgs + 0.5\n",
        "\n",
        "    # 이미지 그리드 설정\n",
        "    fig, axs = plt.subplots(image_grid_rows,\n",
        "                            image_grid_columns,\n",
        "                            figsize=(4, 4),\n",
        "                            sharey=True,\n",
        "                            sharex=True)\n",
        "\n",
        "    cnt = 0\n",
        "    for i in range(image_grid_rows):\n",
        "        for j in range(image_grid_columns):\n",
        "            # 이미지 그리드 출력\n",
        "            axs[i, j].imshow(gen_imgs[cnt, :, :, 0], cmap='gray')\n",
        "            axs[i, j].axis('off')\n",
        "            cnt += 1\n",
        "    plt.show()"
      ],
      "execution_count": 12,
      "outputs": []
    },
    {
      "cell_type": "markdown",
      "metadata": {
        "id": "OTeo9i5uU_Fj"
      },
      "source": [
        "## GAN 훈련과 출력 점검"
      ]
    },
    {
      "cell_type": "code",
      "metadata": {
        "id": "iAnj9y83U_Fm",
        "colab": {
          "base_uri": "https://localhost:8080/",
          "height": 266
        },
        "outputId": "6c43962c-39bc-405e-bf47-6aa5c6f24df3"
      },
      "source": [
        "# 하이퍼파라미터 설정\n",
        "iterations = 20000\n",
        "batch_size = 128\n",
        "sample_interval = 1000\n",
        "\n",
        "# 지정된 반복 횟수만큼 DCGAN 훈련\n",
        "train(iterations, batch_size, sample_interval)"
      ],
      "execution_count": null,
      "outputs": [
        {
          "output_type": "stream",
          "text": [
            "1000 [D 손실: 0.000007, 정확도: 50.00%] [G 손실: -0.500439]\n"
          ],
          "name": "stdout"
        },
        {
          "output_type": "display_data",
          "data": {
            "image/png": "[encoded data removed]",
            "text/plain": [
              "<Figure size 288x288 with 16 Axes>"
            ]
          },
          "metadata": {
            "tags": [],
            "needs_background": "light"
          }
        }
      ]
    },
    {
      "cell_type": "code",
      "metadata": {
        "id": "ajnrQlPiU_Fq"
      },
      "source": [
        "losses = np.array(losses)\n",
        "\n",
        "# 판별자와 생성자의 훈련 손실 그래프\n",
        "plt.figure(figsize=(15, 5))\n",
        "plt.plot(iteration_checkpoints, losses.T[0], label=\"Discriminator loss\")\n",
        "plt.plot(iteration_checkpoints, losses.T[1], label=\"Generator loss\")\n",
        "\n",
        "plt.xticks(iteration_checkpoints, rotation=90)\n",
        "\n",
        "plt.title(\"Training Loss\")\n",
        "plt.xlabel(\"Iteration\")\n",
        "plt.ylabel(\"Loss\")\n",
        "plt.legend()"
      ],
      "execution_count": null,
      "outputs": []
    },
    {
      "cell_type": "code",
      "metadata": {
        "id": "NrXoPDJuU_Fr"
      },
      "source": [
        "accuracies = np.array(accuracies)\n",
        "\n",
        "# 판별자의 정확도 그래프\n",
        "plt.figure(figsize=(15, 5))\n",
        "plt.plot(iteration_checkpoints, accuracies, label=\"Discriminator accuracy\")\n",
        "\n",
        "plt.xticks(iteration_checkpoints, rotation=90)\n",
        "plt.yticks(range(0, 100, 5))\n",
        "\n",
        "plt.title(\"Discriminator Accuracy\")\n",
        "plt.xlabel(\"Iteration\")\n",
        "plt.ylabel(\"Accuracy (%)\")\n",
        "plt.legend()"
      ],
      "execution_count": null,
      "outputs": []
    }
  ]
}